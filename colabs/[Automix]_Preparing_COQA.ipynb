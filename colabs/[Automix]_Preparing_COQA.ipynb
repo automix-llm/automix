{
  "cells": [
    {
      "cell_type": "markdown",
      "metadata": {
        "colab_type": "text",
        "id": "view-in-github"
      },
      "source": [
        "<a href=\"https://colab.research.google.com/github/automix-llm/automix/blob/main/colabs/%5BAutomix%5D_Preparing_COQA.ipynb\" target=\"_parent\"><img src=\"https://colab.research.google.com/assets/colab-badge.svg\" alt=\"Open In Colab\"/></a>"
      ]
    },
    {
      "cell_type": "markdown",
      "metadata": {
        "id": "QI7Sa83tHoun"
      },
      "source": [
        "## COQA\n",
        "\n",
        "- This notebook outlines the step we took to prepare [coqa](https://stanfordnlp.github.io/coqa/) for AutoMix.\n",
        "\n",
        "\n",
        "- The dataset has been prepared already and is available [here](\n",
        "*Note: The outputs of this step are provided [here](https://drive.google.com/file/d/1dhyt7UuYumk9Gae9eJ_mpTVrLeSTuRht/view?usp=sharing). This notebook is to mainly facilitate reproducibility."
      ]
    },
    {
      "cell_type": "code",
      "execution_count": null,
      "metadata": {
        "id": "LCohyStx1JqL"
      },
      "outputs": [],
      "source": [
        "import pandas as pd\n",
        "from concurrent.futures import ThreadPoolExecutor\n",
        "from tqdm import tqdm\n",
        "import hashlib\n"
      ]
    },
    {
      "cell_type": "markdown",
      "metadata": {
        "id": "yQ0TiRTm25lp"
      },
      "source": [
        "### Read data"
      ]
    },
    {
      "cell_type": "code",
      "execution_count": null,
      "metadata": {
        "colab": {
          "base_uri": "https://localhost:8080/",
          "height": 69,
          "referenced_widgets": [
            "ba1e46451526440c9480333568346d61",
            "fd53e903d7644ade9ed90ec7fdd3fddc",
            "e4ba1b168d6642e59731a264cb36a0ac",
            "c1de957b708a478f9d9bb39113764bb6",
            "55a3c0f0a4354736b387288d549ca8b6",
            "e8a98653b5fc4431b9cf6a0307dd62cd",
            "d9e490915aa847cbb7f8ab78d3f47ae0",
            "18db9aff19a64608bcf770ee1bf19cbe"
          ]
        },
        "id": "rkuoE0HkYzKD",
        "outputId": "a57450ed-17d1-4135-ed1d-35d1900a7f52"
      },
      "outputs": [
        {
          "name": "stderr",
          "output_type": "stream",
          "text": [
            "Using custom data configuration default\n",
            "Reusing dataset coqa (/usr0/home/amadaan/.cache/huggingface/datasets/coqa/default/1.0.0/553ce70bfdcd15ff4b5f4abc4fc2f37137139cde1f58f4f60384a53a327716f0)\n"
          ]
        },
        {
          "data": {
            "application/vnd.jupyter.widget-view+json": {
              "model_id": "ba1e46451526440c9480333568346d61",
              "version_major": 2,
              "version_minor": 0
            },
            "text/plain": [
              "HBox(children=(FloatProgress(value=0.0, max=2.0), HTML(value='')))"
            ]
          },
          "metadata": {},
          "output_type": "display_data"
        },
        {
          "name": "stdout",
          "output_type": "stream",
          "text": [
            "\n"
          ]
        }
      ],
      "source": [
        "import pandas as pd\n",
        "import hashlib\n",
        "from datasets import load_dataset\n",
        "from sklearn.model_selection import train_test_split\n",
        "\n",
        "# Load the CoQA dataset\n",
        "coqa = load_dataset('coqa')\n",
        "\n",
        "# Initialize a list to store our new rows\n",
        "data = []\n",
        "\n",
        "# Iterate through the validation set of the dataset\n",
        "for sample in coqa['validation']:\n",
        "    story = sample['story']\n",
        "    questions = sample['questions']\n",
        "    answers = sample['answers']['input_text']\n",
        "\n",
        "    # Check for alignment between questions and answers\n",
        "    if len(questions) != len(answers):\n",
        "        print(f\"Mismatch found in sample with ID: {sample['id']}\")\n",
        "        continue\n",
        "\n",
        "    # Hash the story to create id\n",
        "    id_hash = hashlib.sha256(story.encode()).hexdigest()\n",
        "\n",
        "    for q, a in zip(questions, answers):\n",
        "        # Hash the story + question to create pid\n",
        "        pid_hash = hashlib.sha256((story + q).encode()).hexdigest()\n",
        "\n",
        "        # Append a new row to our data\n",
        "        data.append({\n",
        "            'id': id_hash,\n",
        "            'pid': pid_hash,\n",
        "            'base_ctx': story,\n",
        "            'question': q,\n",
        "            'output': a\n",
        "        })\n",
        "\n",
        "# Convert the list of rows into a DataFrame\n",
        "df = pd.DataFrame(data)\n",
        "\n",
        "# Keeping the necessary columns\n",
        "df = df[['id', 'pid', 'base_ctx', 'question', 'output']]\n",
        "\n",
        "# Create a train/val split based on stories\n",
        "story_ids = df['id'].unique()\n",
        "train_ids, val_ids = train_test_split(story_ids, test_size=0.5, random_state=42)\n",
        "\n",
        "# Assigning split labels to the DataFrame\n",
        "df['split'] = 'train'\n",
        "df.loc[df['id'].isin(val_ids), 'split'] = 'val'\n"
      ]
    },
    {
      "cell_type": "code",
      "execution_count": null,
      "metadata": {
        "id": "i4o1urCbaZRA"
      },
      "outputs": [],
      "source": [
        "df = df.drop_duplicates(subset=['pid'])\n"
      ]
    },
    {
      "cell_type": "code",
      "execution_count": null,
      "metadata": {
        "colab": {
          "base_uri": "https://localhost:8080/"
        },
        "id": "yI5fPwSTCXzK",
        "outputId": "a91b5573-37d9-45ae-9f95-97281f65fe8e"
      },
      "outputs": [
        {
          "name": "stderr",
          "output_type": "stream",
          "text": [
            "/tmp/ipykernel_2940737/2106743274.py:1: SettingWithCopyWarning: \n",
            "A value is trying to be set on a copy of a slice from a DataFrame.\n",
            "Try using .loc[row_indexer,col_indexer] = value instead\n",
            "\n",
            "See the caveats in the documentation: https://pandas.pydata.org/pandas-docs/stable/user_guide/indexing.html#returning-a-view-versus-a-copy\n",
            "  df['dataset'] = 'coqa'\n"
          ]
        }
      ],
      "source": [
        "df['dataset'] = 'coqa'"
      ]
    },
    {
      "cell_type": "code",
      "execution_count": null,
      "metadata": {
        "id": "bbs2v-1ZCaiZ"
      },
      "outputs": [],
      "source": [
        "df.to_json(\"data/coqa_prepared.jsonl\", orient=\"records\", lines=True)"
      ]
    }
  ],
  "metadata": {
    "colab": {
      "authorship_tag": "ABX9TyOc/ZuBF53cBznylhna3zHB",
      "include_colab_link": true,
      "provenance": []
    },
    "kernelspec": {
      "display_name": "Python 3",
      "name": "python3"
    },
    "language_info": {
      "name": "python"
    },
    "widgets": {
      "application/vnd.jupyter.widget-state+json": {
        "18db9aff19a64608bcf770ee1bf19cbe": {
          "model_module": "@jupyter-widgets/controls",
          "model_module_version": "2.0.0",
          "model_name": "HTMLStyleModel",
          "state": {
            "_model_module": "@jupyter-widgets/controls",
            "_model_module_version": "2.0.0",
            "_model_name": "HTMLStyleModel",
            "_view_count": null,
            "_view_module": "@jupyter-widgets/base",
            "_view_module_version": "2.0.0",
            "_view_name": "StyleView",
            "background": null,
            "description_width": "",
            "font_size": null,
            "text_color": null
          }
        },
        "55a3c0f0a4354736b387288d549ca8b6": {
          "model_module": "@jupyter-widgets/base",
          "model_module_version": "2.0.0",
          "model_name": "LayoutModel",
          "state": {
            "_model_module": "@jupyter-widgets/base",
            "_model_module_version": "2.0.0",
            "_model_name": "LayoutModel",
            "_view_count": null,
            "_view_module": "@jupyter-widgets/base",
            "_view_module_version": "2.0.0",
            "_view_name": "LayoutView",
            "align_content": null,
            "align_items": null,
            "align_self": null,
            "border_bottom": null,
            "border_left": null,
            "border_right": null,
            "border_top": null,
            "bottom": null,
            "display": null,
            "flex": null,
            "flex_flow": null,
            "grid_area": null,
            "grid_auto_columns": null,
            "grid_auto_flow": null,
            "grid_auto_rows": null,
            "grid_column": null,
            "grid_gap": null,
            "grid_row": null,
            "grid_template_areas": null,
            "grid_template_columns": null,
            "grid_template_rows": null,
            "height": null,
            "justify_content": null,
            "justify_items": null,
            "left": null,
            "margin": null,
            "max_height": null,
            "max_width": null,
            "min_height": null,
            "min_width": null,
            "object_fit": null,
            "object_position": null,
            "order": null,
            "overflow": null,
            "padding": null,
            "right": null,
            "top": null,
            "visibility": null,
            "width": null
          }
        },
        "ba1e46451526440c9480333568346d61": {
          "model_module": "@jupyter-widgets/controls",
          "model_module_version": "2.0.0",
          "model_name": "HBoxModel",
          "state": {
            "_dom_classes": [],
            "_model_module": "@jupyter-widgets/controls",
            "_model_module_version": "2.0.0",
            "_model_name": "HBoxModel",
            "_view_count": null,
            "_view_module": "@jupyter-widgets/controls",
            "_view_module_version": "2.0.0",
            "_view_name": "HBoxView",
            "box_style": "",
            "children": [
              "IPY_MODEL_fd53e903d7644ade9ed90ec7fdd3fddc",
              "IPY_MODEL_e4ba1b168d6642e59731a264cb36a0ac"
            ],
            "layout": "IPY_MODEL_c1de957b708a478f9d9bb39113764bb6",
            "tabbable": null,
            "tooltip": null
          }
        },
        "c1de957b708a478f9d9bb39113764bb6": {
          "model_module": "@jupyter-widgets/base",
          "model_module_version": "2.0.0",
          "model_name": "LayoutModel",
          "state": {
            "_model_module": "@jupyter-widgets/base",
            "_model_module_version": "2.0.0",
            "_model_name": "LayoutModel",
            "_view_count": null,
            "_view_module": "@jupyter-widgets/base",
            "_view_module_version": "2.0.0",
            "_view_name": "LayoutView",
            "align_content": null,
            "align_items": null,
            "align_self": null,
            "border_bottom": null,
            "border_left": null,
            "border_right": null,
            "border_top": null,
            "bottom": null,
            "display": null,
            "flex": null,
            "flex_flow": null,
            "grid_area": null,
            "grid_auto_columns": null,
            "grid_auto_flow": null,
            "grid_auto_rows": null,
            "grid_column": null,
            "grid_gap": null,
            "grid_row": null,
            "grid_template_areas": null,
            "grid_template_columns": null,
            "grid_template_rows": null,
            "height": null,
            "justify_content": null,
            "justify_items": null,
            "left": null,
            "margin": null,
            "max_height": null,
            "max_width": null,
            "min_height": null,
            "min_width": null,
            "object_fit": null,
            "object_position": null,
            "order": null,
            "overflow": null,
            "padding": null,
            "right": null,
            "top": null,
            "visibility": null,
            "width": null
          }
        },
        "d9e490915aa847cbb7f8ab78d3f47ae0": {
          "model_module": "@jupyter-widgets/base",
          "model_module_version": "2.0.0",
          "model_name": "LayoutModel",
          "state": {
            "_model_module": "@jupyter-widgets/base",
            "_model_module_version": "2.0.0",
            "_model_name": "LayoutModel",
            "_view_count": null,
            "_view_module": "@jupyter-widgets/base",
            "_view_module_version": "2.0.0",
            "_view_name": "LayoutView",
            "align_content": null,
            "align_items": null,
            "align_self": null,
            "border_bottom": null,
            "border_left": null,
            "border_right": null,
            "border_top": null,
            "bottom": null,
            "display": null,
            "flex": null,
            "flex_flow": null,
            "grid_area": null,
            "grid_auto_columns": null,
            "grid_auto_flow": null,
            "grid_auto_rows": null,
            "grid_column": null,
            "grid_gap": null,
            "grid_row": null,
            "grid_template_areas": null,
            "grid_template_columns": null,
            "grid_template_rows": null,
            "height": null,
            "justify_content": null,
            "justify_items": null,
            "left": null,
            "margin": null,
            "max_height": null,
            "max_width": null,
            "min_height": null,
            "min_width": null,
            "object_fit": null,
            "object_position": null,
            "order": null,
            "overflow": null,
            "padding": null,
            "right": null,
            "top": null,
            "visibility": null,
            "width": null
          }
        },
        "e4ba1b168d6642e59731a264cb36a0ac": {
          "model_module": "@jupyter-widgets/controls",
          "model_module_version": "2.0.0",
          "model_name": "HTMLModel",
          "state": {
            "_dom_classes": [],
            "_model_module": "@jupyter-widgets/controls",
            "_model_module_version": "2.0.0",
            "_model_name": "HTMLModel",
            "_view_count": null,
            "_view_module": "@jupyter-widgets/controls",
            "_view_module_version": "2.0.0",
            "_view_name": "HTMLView",
            "description": "",
            "description_allow_html": false,
            "layout": "IPY_MODEL_d9e490915aa847cbb7f8ab78d3f47ae0",
            "placeholder": "​",
            "style": "IPY_MODEL_18db9aff19a64608bcf770ee1bf19cbe",
            "tabbable": null,
            "tooltip": null,
            "value": " 2/2 [00:00&lt;00:00, 52.87it/s]"
          }
        },
        "e8a98653b5fc4431b9cf6a0307dd62cd": {
          "model_module": "@jupyter-widgets/controls",
          "model_module_version": "2.0.0",
          "model_name": "ProgressStyleModel",
          "state": {
            "_model_module": "@jupyter-widgets/controls",
            "_model_module_version": "2.0.0",
            "_model_name": "ProgressStyleModel",
            "_view_count": null,
            "_view_module": "@jupyter-widgets/base",
            "_view_module_version": "2.0.0",
            "_view_name": "StyleView",
            "bar_color": null,
            "description_width": "initial"
          }
        },
        "fd53e903d7644ade9ed90ec7fdd3fddc": {
          "model_module": "@jupyter-widgets/controls",
          "model_module_version": "2.0.0",
          "model_name": "FloatProgressModel",
          "state": {
            "_dom_classes": [],
            "_model_module": "@jupyter-widgets/controls",
            "_model_module_version": "2.0.0",
            "_model_name": "FloatProgressModel",
            "_view_count": null,
            "_view_module": "@jupyter-widgets/controls",
            "_view_module_version": "2.0.0",
            "_view_name": "ProgressView",
            "bar_style": "success",
            "description": "100%",
            "description_allow_html": false,
            "layout": "IPY_MODEL_55a3c0f0a4354736b387288d549ca8b6",
            "max": 2,
            "min": 0,
            "orientation": "horizontal",
            "style": "IPY_MODEL_e8a98653b5fc4431b9cf6a0307dd62cd",
            "tabbable": null,
            "tooltip": null,
            "value": 2
          }
        }
      }
    }
  },
  "nbformat": 4,
  "nbformat_minor": 0
}
