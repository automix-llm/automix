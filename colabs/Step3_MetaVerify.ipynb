{
 "cells": [
  {
   "cell_type": "markdown",
   "metadata": {},
   "source": [
    "<a href=\"https://colab.research.google.com/github/automix-llm/automix/blob/main/colabs/Step3_MetaVerify.ipynb\" target=\"_parent\"><img src=\"https://colab.research.google.com/assets/colab-badge.svg\" alt=\"Open In Colab\"/></a>"
   ]
  },
  {
   "cell_type": "markdown",
   "metadata": {},
   "source": [
    "# AutoMix: Solving the task\n",
    "\n",
    "- This is the third and final step of the process. The step assumes, we have access to verifier confidence. We run inference on both the 13b and 70b models for all tasks. Note that in practice, we don't have to run inference on both the models. This is just for ease of implementation.\n",
    "\n",
    "*Note: The outputs of this step are provided [here](data/automix_release_with_decision.jsonl).*"
   ]
  },
  {
   "cell_type": "markdown",
   "metadata": {},
   "source": [
    "## TOODs:\n",
    "1. Data Wise Results   -> @Pranjal\n",
    "2. A bit more beautify\n",
    "3. Can provide a visualization of decisions or something?"
   ]
  },
  {
   "cell_type": "code",
   "execution_count": 1,
   "metadata": {},
   "outputs": [],
   "source": [
    "import json\n",
    "import pandas as pd\n",
    "import numpy as np\n",
    "from automix import POMDP, Threshold, SelfConsistency, Automix"
   ]
  },
  {
   "cell_type": "markdown",
   "metadata": {},
   "source": [
    "## Read and Split Data"
   ]
  },
  {
   "cell_type": "code",
   "execution_count": 22,
   "metadata": {},
   "outputs": [],
   "source": [
    "# TODO: @Pranjal, please change the file path\n",
    "llama2_outputs = pd.read_json(\"data/automix_release_with_decision.jsonl\", lines=True, orient=\"records\")\n",
    "train_outputs = llama2_outputs[llama2_outputs['split'] == 'train']\n",
    "test_outputs  = llama2_outputs[llama2_outputs['split'] == 'val']"
   ]
  },
  {
   "cell_type": "markdown",
   "metadata": {},
   "source": [
    "## Instantiate AutoMix Object"
   ]
  },
  {
   "cell_type": "code",
   "execution_count": 23,
   "metadata": {},
   "outputs": [],
   "source": [
    "# Create seperate AutoMix Variants\n",
    "threshold_variant = Automix(Threshold(num_bins=8))\n",
    "sc_variant = Automix(SelfConsistency(num_bins=8))\n",
    "pomdp_variant = Automix(POMDP(num_bins=8))"
   ]
  },
  {
   "cell_type": "markdown",
   "metadata": {},
   "source": [
    "## Train AutoMix"
   ]
  },
  {
   "cell_type": "code",
   "execution_count": 24,
   "metadata": {},
   "outputs": [
    {
     "name": "stdout",
     "output_type": "stream",
     "text": [
      "0.625 0.08105463689324811\n",
      "0.5 0.07049058864861137\n",
      "((0, 0, 1, 1, 0, 0, 0, 0, 0), 0) 0.19449230430671569\n"
     ]
    }
   ],
   "source": [
    "threshold_variant.train(train_outputs)\n",
    "sc_variant.train(train_outputs)\n",
    "pomdp_variant.train(train_outputs)"
   ]
  },
  {
   "cell_type": "markdown",
   "metadata": {},
   "source": [
    "## Visualize Learnerd Parameters"
   ]
  },
  {
   "cell_type": "code",
   "execution_count": 25,
   "metadata": {},
   "outputs": [
    {
     "name": "stdout",
     "output_type": "stream",
     "text": [
      "Automix w/ Thresholding : Verifier Confidence below 0.625 are routed to LLM\n",
      "Automix w/ Self-Consistency : Verifier Confidence below 0.5 are routed to LLM\n"
     ]
    }
   ],
   "source": [
    "print(f'Automix w/ Thresholding : Verifier Confidence below {threshold_variant.best_param} are routed to LLM')\n",
    "print(f'Automix w/ Self-Consistency : Verifier Confidence below {sc_variant.best_param} are routed to LLM')"
   ]
  },
  {
   "cell_type": "code",
   "execution_count": 26,
   "metadata": {},
   "outputs": [
    {
     "name": "stdout",
     "output_type": "stream",
     "text": [
      "Automix w/ POMDP : Verifier Confidence routed to LLM are: 0.25, 0.375 are routed to llm\n"
     ]
    }
   ],
   "source": [
    "# TODO: Improve Visualization?\n",
    "# TODO: @Pranjal: Visualization directly in library\n",
    "print(f'Automix w/ POMDP : Verifier Confidence routed to LLM are: {\", \".join([str(i*(1/8)) for i,x in enumerate(pomdp_variant.best_param[0]) if x==1])} are routed to llm')"
   ]
  },
  {
   "cell_type": "markdown",
   "metadata": {},
   "source": [
    "## Run Inference on Test Set"
   ]
  },
  {
   "cell_type": "code",
   "execution_count": 36,
   "metadata": {},
   "outputs": [],
   "source": [
    "threshold_results = threshold_variant.evaluate(test_outputs, return_dict = True)\n",
    "sc_results = sc_variant.evaluate(test_outputs, return_dict = True)\n",
    "pomdp_results = pomdp_variant.evaluate(test_outputs, return_dict = True)"
   ]
  },
  {
   "cell_type": "code",
   "execution_count": null,
   "metadata": {},
   "outputs": [],
   "source": [
    "# We have meta-verifier decisions returned as well :) \n",
    "\n",
    "del threshold_results['route_to_llm']\n",
    "del sc_results['route_to_llm']\n",
    "del pomdp_results['route_to_llm']"
   ]
  },
  {
   "cell_type": "markdown",
   "metadata": {},
   "source": [
    "## Display the Results"
   ]
  },
  {
   "cell_type": "code",
   "execution_count": 41,
   "metadata": {},
   "outputs": [
    {
     "name": "stdout",
     "output_type": "stream",
     "text": [
      "                   ibc_lift  automix_slm_slope  avg_performance   avg_cost\n",
      "Threshold Variant  0.086537           0.002572         0.401705  31.541555\n",
      "SC Variant         0.099600           0.002603         0.384088  24.410953\n",
      "POMDP Variant      0.051105           0.002488         0.353582  13.231213\n"
     ]
    }
   ],
   "source": [
    "# Create pandas df \n",
    "data = {\n",
    "    'Threshold Variant': threshold_results,\n",
    "    'SC Variant': sc_results,\n",
    "    'POMDP Variant': pomdp_results,\n",
    "}\n",
    "df = pd.DataFrame(data).transpose()\n",
    "print(df)"
   ]
  },
  {
   "cell_type": "code",
   "execution_count": null,
   "metadata": {},
   "outputs": [],
   "source": []
  }
 ],
 "metadata": {
  "kernelspec": {
   "display_name": "base",
   "language": "python",
   "name": "python3"
  },
  "language_info": {
   "codemirror_mode": {
    "name": "ipython",
    "version": 3
   },
   "file_extension": ".py",
   "mimetype": "text/x-python",
   "name": "python",
   "nbconvert_exporter": "python",
   "pygments_lexer": "ipython3",
   "version": "3.11.5"
  }
 },
 "nbformat": 4,
 "nbformat_minor": 2
}
